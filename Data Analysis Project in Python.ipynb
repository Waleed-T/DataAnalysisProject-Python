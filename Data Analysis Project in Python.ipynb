{
 "cells": [
  {
   "cell_type": "code",
   "execution_count": 58,
   "id": "77a3fff3",
   "metadata": {},
   "outputs": [
    {
     "name": "stdout",
     "output_type": "stream",
     "text": [
      "Requirement already satisfied: pip in c:\\programdata\\anaconda3\\lib\\site-packages (21.2.4)\n"
     ]
    }
   ],
   "source": [
    "!pip install pip"
   ]
  },
  {
   "cell_type": "code",
   "execution_count": 59,
   "id": "2973ef6e",
   "metadata": {},
   "outputs": [
    {
     "name": "stdout",
     "output_type": "stream",
     "text": [
      "Requirement already satisfied: matplotlib in c:\\programdata\\anaconda3\\lib\\site-packages (3.4.3)\n",
      "Requirement already satisfied: pyparsing>=2.2.1 in c:\\programdata\\anaconda3\\lib\\site-packages (from matplotlib) (3.0.4)\n",
      "Requirement already satisfied: kiwisolver>=1.0.1 in c:\\programdata\\anaconda3\\lib\\site-packages (from matplotlib) (1.3.1)\n",
      "Requirement already satisfied: numpy>=1.16 in c:\\programdata\\anaconda3\\lib\\site-packages (from matplotlib) (1.20.3)\n",
      "Requirement already satisfied: cycler>=0.10 in c:\\programdata\\anaconda3\\lib\\site-packages (from matplotlib) (0.10.0)\n",
      "Requirement already satisfied: python-dateutil>=2.7 in c:\\programdata\\anaconda3\\lib\\site-packages (from matplotlib) (2.8.2)\n",
      "Requirement already satisfied: pillow>=6.2.0 in c:\\programdata\\anaconda3\\lib\\site-packages (from matplotlib) (8.4.0)\n",
      "Requirement already satisfied: six in c:\\programdata\\anaconda3\\lib\\site-packages (from cycler>=0.10->matplotlib) (1.16.0)\n"
     ]
    }
   ],
   "source": [
    "!pip install matplotlib "
   ]
  },
  {
   "cell_type": "code",
   "execution_count": 60,
   "id": "228f2546",
   "metadata": {},
   "outputs": [
    {
     "name": "stdout",
     "output_type": "stream",
     "text": [
      "Requirement already satisfied: numpy in c:\\programdata\\anaconda3\\lib\\site-packages (1.20.3)\n"
     ]
    }
   ],
   "source": [
    "!pip install numpy"
   ]
  },
  {
   "cell_type": "code",
   "execution_count": 61,
   "id": "b0ace871",
   "metadata": {},
   "outputs": [
    {
     "name": "stdout",
     "output_type": "stream",
     "text": [
      "download ready\n"
     ]
    }
   ],
   "source": [
    "import requests\n",
    "#get data from a download link\n",
    "download_url=\"https://raw.githubusercontent.com/fivethirtyeight/data/master/nba-elo/nbaallelo.csv\"\n",
    "target_csv_path = \"nba_all_elo.csv\"\n",
    "response = requests.get(download_url)\n",
    "response.raise_for_status() #check that the request was successful\n",
    "\n",
    "#save the file nba_all_elo.csv in your current working directory\n",
    "with open(target_csv_path, \"wb\") as f:\n",
    "    f.write(response.content)\n",
    "print(\"download ready\")"
   ]
  },
  {
   "cell_type": "code",
   "execution_count": 62,
   "id": "498514f5",
   "metadata": {},
   "outputs": [
    {
     "name": "stdout",
     "output_type": "stream",
     "text": [
      "Requirement already satisfied: pandas in c:\\programdata\\anaconda3\\lib\\site-packages (1.3.4)\n",
      "Requirement already satisfied: pytz>=2017.3 in c:\\programdata\\anaconda3\\lib\\site-packages (from pandas) (2021.3)\n",
      "Requirement already satisfied: numpy>=1.17.3 in c:\\programdata\\anaconda3\\lib\\site-packages (from pandas) (1.20.3)\n",
      "Requirement already satisfied: python-dateutil>=2.7.3 in c:\\programdata\\anaconda3\\lib\\site-packages (from pandas) (2.8.2)\n",
      "Requirement already satisfied: six>=1.5 in c:\\programdata\\anaconda3\\lib\\site-packages (from python-dateutil>=2.7.3->pandas) (1.16.0)\n"
     ]
    }
   ],
   "source": [
    "!pip install pandas"
   ]
  },
  {
   "cell_type": "code",
   "execution_count": 63,
   "id": "7f7b95a4",
   "metadata": {
    "scrolled": true
   },
   "outputs": [
    {
     "data": {
      "text/plain": [
       "pandas.core.frame.DataFrame"
      ]
     },
     "execution_count": 63,
     "metadata": {},
     "output_type": "execute_result"
    }
   ],
   "source": [
    "#importing pandas in Python with the pd alias\n",
    "import pandas as pd\n",
    "#read in the dataset and store it as a DataFrame object in the variable nba\n",
    "#when you copy the file path, if you get the FileNotFoundError: [Errno 2]\n",
    "#then flip the backslash to a forward slash, and voila, it works!\n",
    "nba = pd.read_csv(\"C:/Users/X/Documents/Study/Business Intelligence/labs/lab 1/nba_all_elo.csv\")\n",
    "#check nba's type, it should be a DataFrame\n",
    "type(nba)"
   ]
  },
  {
   "cell_type": "markdown",
   "id": "3e66e89c",
   "metadata": {},
   "source": [
    "**Question No.1 (report your answer): Display the first 3 rows of your dataset.Remember that the\n",
    "default nba.head() shows the first 5 rows**"
   ]
  },
  {
   "cell_type": "markdown",
   "id": "25bc0d07",
   "metadata": {},
   "source": [
    "**Answer No.1**"
   ]
  },
  {
   "cell_type": "code",
   "execution_count": 88,
   "id": "3b151fc4",
   "metadata": {},
   "outputs": [],
   "source": [
    "df = pd.DataFrame(nba) #here we are converting the nba dataset into a dataframe"
   ]
  },
  {
   "cell_type": "code",
   "execution_count": 89,
   "id": "6a31e8da",
   "metadata": {},
   "outputs": [],
   "source": [
    "df1 = df.head(3) #here we are storing the dataframe into an object while tweaking the head function to display only first three rows"
   ]
  },
  {
   "cell_type": "code",
   "execution_count": 90,
   "id": "29a76837",
   "metadata": {},
   "outputs": [
    {
     "data": {
      "text/html": [
       "<div>\n",
       "<style scoped>\n",
       "    .dataframe tbody tr th:only-of-type {\n",
       "        vertical-align: middle;\n",
       "    }\n",
       "\n",
       "    .dataframe tbody tr th {\n",
       "        vertical-align: top;\n",
       "    }\n",
       "\n",
       "    .dataframe thead th {\n",
       "        text-align: right;\n",
       "    }\n",
       "</style>\n",
       "<table border=\"1\" class=\"dataframe\">\n",
       "  <thead>\n",
       "    <tr style=\"text-align: right;\">\n",
       "      <th></th>\n",
       "      <th>gameorder</th>\n",
       "      <th>game_id</th>\n",
       "      <th>lg_id</th>\n",
       "      <th>_iscopy</th>\n",
       "      <th>year_id</th>\n",
       "      <th>date_game</th>\n",
       "      <th>seasongame</th>\n",
       "      <th>is_playoffs</th>\n",
       "      <th>team_id</th>\n",
       "      <th>fran_id</th>\n",
       "      <th>...</th>\n",
       "      <th>win_equiv</th>\n",
       "      <th>opp_id</th>\n",
       "      <th>opp_fran</th>\n",
       "      <th>opp_pts</th>\n",
       "      <th>opp_elo_i</th>\n",
       "      <th>opp_elo_n</th>\n",
       "      <th>game_location</th>\n",
       "      <th>game_result</th>\n",
       "      <th>forecast</th>\n",
       "      <th>notes</th>\n",
       "    </tr>\n",
       "  </thead>\n",
       "  <tbody>\n",
       "    <tr>\n",
       "      <th>0</th>\n",
       "      <td>1</td>\n",
       "      <td>194611010TRH</td>\n",
       "      <td>NBA</td>\n",
       "      <td>0</td>\n",
       "      <td>1947</td>\n",
       "      <td>11/1/1946</td>\n",
       "      <td>1</td>\n",
       "      <td>0</td>\n",
       "      <td>TRH</td>\n",
       "      <td>Huskies</td>\n",
       "      <td>...</td>\n",
       "      <td>40.294830</td>\n",
       "      <td>NYK</td>\n",
       "      <td>Knicks</td>\n",
       "      <td>68</td>\n",
       "      <td>1300.0000</td>\n",
       "      <td>1306.7233</td>\n",
       "      <td>H</td>\n",
       "      <td>L</td>\n",
       "      <td>0.640065</td>\n",
       "      <td>NaN</td>\n",
       "    </tr>\n",
       "    <tr>\n",
       "      <th>1</th>\n",
       "      <td>1</td>\n",
       "      <td>194611010TRH</td>\n",
       "      <td>NBA</td>\n",
       "      <td>1</td>\n",
       "      <td>1947</td>\n",
       "      <td>11/1/1946</td>\n",
       "      <td>1</td>\n",
       "      <td>0</td>\n",
       "      <td>NYK</td>\n",
       "      <td>Knicks</td>\n",
       "      <td>...</td>\n",
       "      <td>41.705170</td>\n",
       "      <td>TRH</td>\n",
       "      <td>Huskies</td>\n",
       "      <td>66</td>\n",
       "      <td>1300.0000</td>\n",
       "      <td>1293.2767</td>\n",
       "      <td>A</td>\n",
       "      <td>W</td>\n",
       "      <td>0.359935</td>\n",
       "      <td>NaN</td>\n",
       "    </tr>\n",
       "    <tr>\n",
       "      <th>2</th>\n",
       "      <td>2</td>\n",
       "      <td>194611020CHS</td>\n",
       "      <td>NBA</td>\n",
       "      <td>0</td>\n",
       "      <td>1947</td>\n",
       "      <td>11/2/1946</td>\n",
       "      <td>1</td>\n",
       "      <td>0</td>\n",
       "      <td>CHS</td>\n",
       "      <td>Stags</td>\n",
       "      <td>...</td>\n",
       "      <td>42.012257</td>\n",
       "      <td>NYK</td>\n",
       "      <td>Knicks</td>\n",
       "      <td>47</td>\n",
       "      <td>1306.7233</td>\n",
       "      <td>1297.0712</td>\n",
       "      <td>H</td>\n",
       "      <td>W</td>\n",
       "      <td>0.631101</td>\n",
       "      <td>NaN</td>\n",
       "    </tr>\n",
       "  </tbody>\n",
       "</table>\n",
       "<p>3 rows × 23 columns</p>\n",
       "</div>"
      ],
      "text/plain": [
       "   gameorder       game_id lg_id  _iscopy  year_id  date_game  seasongame  \\\n",
       "0          1  194611010TRH   NBA        0     1947  11/1/1946           1   \n",
       "1          1  194611010TRH   NBA        1     1947  11/1/1946           1   \n",
       "2          2  194611020CHS   NBA        0     1947  11/2/1946           1   \n",
       "\n",
       "   is_playoffs team_id  fran_id  ...  win_equiv  opp_id  opp_fran  opp_pts  \\\n",
       "0            0     TRH  Huskies  ...  40.294830     NYK    Knicks       68   \n",
       "1            0     NYK   Knicks  ...  41.705170     TRH   Huskies       66   \n",
       "2            0     CHS    Stags  ...  42.012257     NYK    Knicks       47   \n",
       "\n",
       "   opp_elo_i  opp_elo_n  game_location  game_result  forecast notes  \n",
       "0  1300.0000  1306.7233              H            L  0.640065   NaN  \n",
       "1  1300.0000  1293.2767              A            W  0.359935   NaN  \n",
       "2  1306.7233  1297.0712              H            W  0.631101   NaN  \n",
       "\n",
       "[3 rows x 23 columns]"
      ]
     },
     "execution_count": 90,
     "metadata": {},
     "output_type": "execute_result"
    }
   ],
   "source": [
    "df1 #here we are priting/displaying the object"
   ]
  },
  {
   "cell_type": "markdown",
   "id": "f05572d1",
   "metadata": {},
   "source": [
    "** **"
   ]
  },
  {
   "cell_type": "code",
   "execution_count": 91,
   "id": "e4829c95",
   "metadata": {},
   "outputs": [
    {
     "data": {
      "text/html": [
       "<div>\n",
       "<style scoped>\n",
       "    .dataframe tbody tr th:only-of-type {\n",
       "        vertical-align: middle;\n",
       "    }\n",
       "\n",
       "    .dataframe tbody tr th {\n",
       "        vertical-align: top;\n",
       "    }\n",
       "\n",
       "    .dataframe thead th {\n",
       "        text-align: right;\n",
       "    }\n",
       "</style>\n",
       "<table border=\"1\" class=\"dataframe\">\n",
       "  <thead>\n",
       "    <tr style=\"text-align: right;\">\n",
       "      <th></th>\n",
       "      <th>game_id</th>\n",
       "      <th>date_game</th>\n",
       "      <th>team_id</th>\n",
       "      <th>fran_id</th>\n",
       "      <th>opp_id</th>\n",
       "      <th>opp_fran</th>\n",
       "      <th>game_location</th>\n",
       "      <th>game_result</th>\n",
       "      <th>notes</th>\n",
       "    </tr>\n",
       "  </thead>\n",
       "  <tbody>\n",
       "    <tr>\n",
       "      <th>count</th>\n",
       "      <td>126314</td>\n",
       "      <td>126314</td>\n",
       "      <td>126314</td>\n",
       "      <td>126314</td>\n",
       "      <td>126314</td>\n",
       "      <td>126314</td>\n",
       "      <td>126314</td>\n",
       "      <td>126314</td>\n",
       "      <td>5424</td>\n",
       "    </tr>\n",
       "    <tr>\n",
       "      <th>unique</th>\n",
       "      <td>63157</td>\n",
       "      <td>12426</td>\n",
       "      <td>104</td>\n",
       "      <td>53</td>\n",
       "      <td>104</td>\n",
       "      <td>53</td>\n",
       "      <td>3</td>\n",
       "      <td>2</td>\n",
       "      <td>231</td>\n",
       "    </tr>\n",
       "    <tr>\n",
       "      <th>top</th>\n",
       "      <td>194611010TRH</td>\n",
       "      <td>4/13/2011</td>\n",
       "      <td>BOS</td>\n",
       "      <td>Lakers</td>\n",
       "      <td>BOS</td>\n",
       "      <td>Lakers</td>\n",
       "      <td>H</td>\n",
       "      <td>L</td>\n",
       "      <td>at New York NY</td>\n",
       "    </tr>\n",
       "    <tr>\n",
       "      <th>freq</th>\n",
       "      <td>2</td>\n",
       "      <td>30</td>\n",
       "      <td>5997</td>\n",
       "      <td>6024</td>\n",
       "      <td>5997</td>\n",
       "      <td>6024</td>\n",
       "      <td>63138</td>\n",
       "      <td>63157</td>\n",
       "      <td>440</td>\n",
       "    </tr>\n",
       "  </tbody>\n",
       "</table>\n",
       "</div>"
      ],
      "text/plain": [
       "             game_id  date_game team_id fran_id  opp_id opp_fran  \\\n",
       "count         126314     126314  126314  126314  126314   126314   \n",
       "unique         63157      12426     104      53     104       53   \n",
       "top     194611010TRH  4/13/2011     BOS  Lakers     BOS   Lakers   \n",
       "freq               2         30    5997    6024    5997     6024   \n",
       "\n",
       "       game_location game_result           notes  \n",
       "count         126314      126314            5424  \n",
       "unique             3           2             231  \n",
       "top                H           L  at New York NY  \n",
       "freq           63138       63157             440  "
      ]
     },
     "execution_count": 91,
     "metadata": {},
     "output_type": "execute_result"
    }
   ],
   "source": [
    "#you can provide other data types using the include parameter\n",
    "import numpy as np\n",
    "nba.describe(include=object) #to avoid DeprecationWarning, here we are simnply replacing 'np.object' with 'object'"
   ]
  },
  {
   "cell_type": "markdown",
   "id": "74e12493",
   "metadata": {},
   "source": [
    "** **"
   ]
  },
  {
   "cell_type": "markdown",
   "id": "cba84f6b",
   "metadata": {},
   "source": [
    "**Question.2 (report your answer): Take a look at the team_id and fran_id (franchise) columns;\n",
    "what observations can you make at this point (i.e. do you see anything strange here)? Write\n",
    "your initial observation, then carry on with section 3.3 to be able to answer it by exploring your\n",
    "dataset.**"
   ]
  },
  {
   "cell_type": "markdown",
   "id": "f9831044",
   "metadata": {},
   "source": [
    "**Answer No.2**"
   ]
  },
  {
   "cell_type": "markdown",
   "id": "25e1cbf3",
   "metadata": {},
   "source": [
    "Both the columns show a variety of information which really does not make any sense, meaning that the information is present but we can't be sure if it means something or not (there is no context here). It's just a piece of dataframe that can't be used to generate meaningful information"
   ]
  },
  {
   "cell_type": "markdown",
   "id": "d9e1b18c",
   "metadata": {},
   "source": [
    "** **"
   ]
  },
  {
   "cell_type": "markdown",
   "id": "90336d3a",
   "metadata": {},
   "source": [
    "**Question.3 (report your answer): Find out how many wins and losses the Minneapolis\n",
    "Lakers had and how many points they scored during the matches in the dataset.**"
   ]
  },
  {
   "cell_type": "markdown",
   "id": "55770548",
   "metadata": {},
   "source": [
    "**Answer No.3**"
   ]
  },
  {
   "cell_type": "code",
   "execution_count": 92,
   "id": "0f4aebba",
   "metadata": {},
   "outputs": [
    {
     "data": {
      "text/plain": [
       "946"
      ]
     },
     "execution_count": 92,
     "metadata": {},
     "output_type": "execute_result"
    }
   ],
   "source": [
    "nba.loc[nba[\"team_id\"] == \"MNL\", \"game_result\"].count() #here we are retrieving the total no. of matches played by MNL using the loc function"
   ]
  },
  {
   "cell_type": "code",
   "execution_count": 93,
   "id": "75ac4088",
   "metadata": {},
   "outputs": [
    {
     "data": {
      "text/plain": [
       "'W'"
      ]
     },
     "execution_count": 93,
     "metadata": {},
     "output_type": "execute_result"
    }
   ],
   "source": [
    "nba.loc[nba[\"team_id\"] == \"MNL\", \"game_result\"].max() #here we are retrieving the highest frequency, whether Wins or Losses using the loc function"
   ]
  },
  {
   "cell_type": "code",
   "execution_count": 94,
   "id": "e9192b14",
   "metadata": {},
   "outputs": [
    {
     "data": {
      "text/plain": [
       "'L'"
      ]
     },
     "execution_count": 94,
     "metadata": {},
     "output_type": "execute_result"
    }
   ],
   "source": [
    "nba.loc[nba[\"team_id\"] == \"MNL\", \"game_result\"].min() #here we are retrieving the lowest frequency, whether Wins or Losses using the loc function"
   ]
  },
  {
   "cell_type": "code",
   "execution_count": 95,
   "id": "50407d59",
   "metadata": {},
   "outputs": [
    {
     "data": {
      "text/plain": [
       "min    L\n",
       "max    W\n",
       "Name: game_result, dtype: object"
      ]
     },
     "execution_count": 95,
     "metadata": {},
     "output_type": "execute_result"
    }
   ],
   "source": [
    "nba.loc[nba[\"team_id\"] == \"MNL\", \"game_result\"].agg((\"min\", \"max\"))#here we are retrieving both together, whether Wins or Losses using the loc function"
   ]
  },
  {
   "cell_type": "code",
   "execution_count": 96,
   "id": "088a0dc1",
   "metadata": {},
   "outputs": [
    {
     "data": {
      "text/plain": [
       "game_result\n",
       "L    422\n",
       "W    524\n",
       "Name: game_id, dtype: int64"
      ]
     },
     "execution_count": 96,
     "metadata": {},
     "output_type": "execute_result"
    }
   ],
   "source": [
    "nba[(nba[\"team_id\"]==\"MNL\")].groupby([\"game_result\"])[\"game_id\"].count() #here we are retrieving game results of 'MNL'using the nba dataset and grouping game_result with game_id with a count function to retrieve the wins and losses of MNL team"
   ]
  },
  {
   "cell_type": "code",
   "execution_count": 97,
   "id": "95214a96",
   "metadata": {},
   "outputs": [
    {
     "data": {
      "text/plain": [
       "88229"
      ]
     },
     "execution_count": 97,
     "metadata": {},
     "output_type": "execute_result"
    }
   ],
   "source": [
    "nba.loc[nba[\"team_id\"]==\"MNL\", \"pts\"].sum() #here we have retrieved the total points scoted by MNL in all games in the nba dataset"
   ]
  },
  {
   "cell_type": "markdown",
   "id": "d60dbc9d",
   "metadata": {},
   "source": [
    "** **"
   ]
  },
  {
   "cell_type": "markdown",
   "id": "c13f359e",
   "metadata": {},
   "source": [
    "**Question.4 (report your answer): Now you understand why the Boston Celtics team \"BOS\" played the most games in the dataset, find out how many points the Boston Celtics have scored during all matches contained in this dataset.**"
   ]
  },
  {
   "cell_type": "markdown",
   "id": "0937ee42",
   "metadata": {},
   "source": [
    "**Answer No.4**"
   ]
  },
  {
   "cell_type": "code",
   "execution_count": 98,
   "id": "2f7dc714",
   "metadata": {},
   "outputs": [
    {
     "data": {
      "text/plain": [
       "626484"
      ]
     },
     "execution_count": 98,
     "metadata": {},
     "output_type": "execute_result"
    }
   ],
   "source": [
    "nba.loc[nba[\"team_id\"]==\"BOS\", \"pts\"].sum() #here we have retrieved the total number of points scored by Boston Celtics in all the matches in the dataset"
   ]
  },
  {
   "cell_type": "markdown",
   "id": "3188ab85",
   "metadata": {},
   "source": [
    "** **"
   ]
  },
  {
   "cell_type": "markdown",
   "id": "bb48ecaa",
   "metadata": {},
   "source": [
    "**Question.5 (report your answer): After exploring your dataset, explain your observations\n",
    "from Question.2 in a structured way.**"
   ]
  },
  {
   "cell_type": "markdown",
   "id": "ad3bcdde",
   "metadata": {},
   "source": [
    "**Answer No.5**"
   ]
  },
  {
   "cell_type": "markdown",
   "id": "4c1da10a",
   "metadata": {},
   "source": [
    "After going through the previous section and then revisting Question 2, it has been observed, for instance, that there were a total of 126,314 games played, out of which 5997 were played by Boston Celtics, or that most games played were played at home ground, or that most of the games turned out to be losses. Now, we see that there is a context for a specific piece of information or a specific portion of the dataframe is useful for us."
   ]
  },
  {
   "cell_type": "markdown",
   "id": "0a6cb865",
   "metadata": {},
   "source": [
    "** **"
   ]
  },
  {
   "cell_type": "markdown",
   "id": "d030ac12",
   "metadata": {},
   "source": [
    "**Question.6 (report your answer):**"
   ]
  },
  {
   "cell_type": "markdown",
   "id": "fc515d65",
   "metadata": {},
   "source": [
    "**(6.1) Use a data access method to display the 4th row from the bottom of the nba dataset.**"
   ]
  },
  {
   "cell_type": "markdown",
   "id": "ba259fcf",
   "metadata": {},
   "source": [
    "**Answer No.6.1**"
   ]
  },
  {
   "cell_type": "code",
   "execution_count": 99,
   "id": "317f7532",
   "metadata": {},
   "outputs": [
    {
     "data": {
      "text/plain": [
       "gameorder               63156\n",
       "game_id          201506140GSW\n",
       "lg_id                     NBA\n",
       "_iscopy                     0\n",
       "year_id                  2015\n",
       "date_game           6/14/2015\n",
       "seasongame                102\n",
       "is_playoffs                 1\n",
       "team_id                   GSW\n",
       "fran_id              Warriors\n",
       "pts                       104\n",
       "elo_i               1809.9791\n",
       "elo_n               1813.6349\n",
       "win_equiv           68.013329\n",
       "opp_id                    CLE\n",
       "opp_fran            Cavaliers\n",
       "opp_pts                    91\n",
       "opp_elo_i           1704.3949\n",
       "opp_elo_n           1700.7391\n",
       "game_location               H\n",
       "game_result                 W\n",
       "forecast             0.765565\n",
       "notes                     NaN\n",
       "Name: 126310, dtype: object"
      ]
     },
     "execution_count": 99,
     "metadata": {},
     "output_type": "execute_result"
    }
   ],
   "source": [
    "nba.iloc[-4]#here we are displaying the 4th row from the bottom of the nba dataset"
   ]
  },
  {
   "cell_type": "markdown",
   "id": "b7c81995",
   "metadata": {},
   "source": [
    "**(6.2) Use a data access method to display the 2nd row from the top of the nba dataset.**"
   ]
  },
  {
   "cell_type": "markdown",
   "id": "f011b432",
   "metadata": {},
   "source": [
    "**Answer No.6.2**"
   ]
  },
  {
   "cell_type": "code",
   "execution_count": 100,
   "id": "a738c90b",
   "metadata": {},
   "outputs": [
    {
     "data": {
      "text/plain": [
       "gameorder                   2\n",
       "game_id          194611020CHS\n",
       "lg_id                     NBA\n",
       "_iscopy                     0\n",
       "year_id                  1947\n",
       "date_game           11/2/1946\n",
       "seasongame                  1\n",
       "is_playoffs                 0\n",
       "team_id                   CHS\n",
       "fran_id                 Stags\n",
       "pts                        63\n",
       "elo_i                  1300.0\n",
       "elo_n               1309.6521\n",
       "win_equiv           42.012257\n",
       "opp_id                    NYK\n",
       "opp_fran               Knicks\n",
       "opp_pts                    47\n",
       "opp_elo_i           1306.7233\n",
       "opp_elo_n           1297.0712\n",
       "game_location               H\n",
       "game_result                 W\n",
       "forecast             0.631101\n",
       "notes                     NaN\n",
       "Name: 2, dtype: object"
      ]
     },
     "execution_count": 100,
     "metadata": {},
     "output_type": "execute_result"
    }
   ],
   "source": [
    "nba.iloc[2]#here we are displaying the 2nd row from the start of the nba dataset"
   ]
  },
  {
   "cell_type": "markdown",
   "id": "f9513272",
   "metadata": {},
   "source": [
    "**6.3) Access all games between the labels 5555 and 5559; you only want to see the names\n",
    "of teams and the scores**"
   ]
  },
  {
   "cell_type": "markdown",
   "id": "aaf81c7d",
   "metadata": {},
   "source": [
    "**Answer No.6.3**"
   ]
  },
  {
   "cell_type": "code",
   "execution_count": 101,
   "id": "33c14a36",
   "metadata": {},
   "outputs": [
    {
     "data": {
      "text/html": [
       "<div>\n",
       "<style scoped>\n",
       "    .dataframe tbody tr th:only-of-type {\n",
       "        vertical-align: middle;\n",
       "    }\n",
       "\n",
       "    .dataframe tbody tr th {\n",
       "        vertical-align: top;\n",
       "    }\n",
       "\n",
       "    .dataframe thead th {\n",
       "        text-align: right;\n",
       "    }\n",
       "</style>\n",
       "<table border=\"1\" class=\"dataframe\">\n",
       "  <thead>\n",
       "    <tr style=\"text-align: right;\">\n",
       "      <th></th>\n",
       "      <th>team_id</th>\n",
       "      <th>pts</th>\n",
       "    </tr>\n",
       "  </thead>\n",
       "  <tbody>\n",
       "    <tr>\n",
       "      <th>5555</th>\n",
       "      <td>FTW</td>\n",
       "      <td>83</td>\n",
       "    </tr>\n",
       "    <tr>\n",
       "      <th>5556</th>\n",
       "      <td>BOS</td>\n",
       "      <td>95</td>\n",
       "    </tr>\n",
       "    <tr>\n",
       "      <th>5557</th>\n",
       "      <td>NYK</td>\n",
       "      <td>74</td>\n",
       "    </tr>\n",
       "    <tr>\n",
       "      <th>5558</th>\n",
       "      <td>ROC</td>\n",
       "      <td>81</td>\n",
       "    </tr>\n",
       "    <tr>\n",
       "      <th>5559</th>\n",
       "      <td>SYR</td>\n",
       "      <td>86</td>\n",
       "    </tr>\n",
       "  </tbody>\n",
       "</table>\n",
       "</div>"
      ],
      "text/plain": [
       "     team_id  pts\n",
       "5555     FTW   83\n",
       "5556     BOS   95\n",
       "5557     NYK   74\n",
       "5558     ROC   81\n",
       "5559     SYR   86"
      ]
     },
     "execution_count": 101,
     "metadata": {},
     "output_type": "execute_result"
    }
   ],
   "source": [
    "nba.loc[5555:5559,[\"team_id\", \"pts\"]]#here we are accessing all the games between the labels 5555 and 5559 and getting the team names and their scores"
   ]
  },
  {
   "cell_type": "markdown",
   "id": "80a877ba",
   "metadata": {},
   "source": [
    "** **"
   ]
  },
  {
   "cell_type": "markdown",
   "id": "ef975e5b",
   "metadata": {},
   "source": [
    "**Question.7 (report your answer): Create a new DataFrame that consists of thegames played\n",
    "between 2000 and 2009.**"
   ]
  },
  {
   "cell_type": "markdown",
   "id": "c0f2ee8d",
   "metadata": {},
   "source": [
    "**Answer No.7**"
   ]
  },
  {
   "cell_type": "code",
   "execution_count": 104,
   "id": "cc2c7c8f",
   "metadata": {},
   "outputs": [
    {
     "data": {
      "text/html": [
       "<div>\n",
       "<style scoped>\n",
       "    .dataframe tbody tr th:only-of-type {\n",
       "        vertical-align: middle;\n",
       "    }\n",
       "\n",
       "    .dataframe tbody tr th {\n",
       "        vertical-align: top;\n",
       "    }\n",
       "\n",
       "    .dataframe thead th {\n",
       "        text-align: right;\n",
       "    }\n",
       "</style>\n",
       "<table border=\"1\" class=\"dataframe\">\n",
       "  <thead>\n",
       "    <tr style=\"text-align: right;\">\n",
       "      <th></th>\n",
       "      <th>gameorder</th>\n",
       "      <th>game_id</th>\n",
       "      <th>lg_id</th>\n",
       "      <th>_iscopy</th>\n",
       "      <th>year_id</th>\n",
       "      <th>date_game</th>\n",
       "      <th>seasongame</th>\n",
       "      <th>is_playoffs</th>\n",
       "      <th>team_id</th>\n",
       "      <th>fran_id</th>\n",
       "      <th>...</th>\n",
       "      <th>win_equiv</th>\n",
       "      <th>opp_id</th>\n",
       "      <th>opp_fran</th>\n",
       "      <th>opp_pts</th>\n",
       "      <th>opp_elo_i</th>\n",
       "      <th>opp_elo_n</th>\n",
       "      <th>game_location</th>\n",
       "      <th>game_result</th>\n",
       "      <th>forecast</th>\n",
       "      <th>notes</th>\n",
       "    </tr>\n",
       "  </thead>\n",
       "  <tbody>\n",
       "    <tr>\n",
       "      <th>87610</th>\n",
       "      <td>43806</td>\n",
       "      <td>200004230LAL</td>\n",
       "      <td>NBA</td>\n",
       "      <td>0</td>\n",
       "      <td>2000</td>\n",
       "      <td>4/23/2000</td>\n",
       "      <td>83</td>\n",
       "      <td>1</td>\n",
       "      <td>LAL</td>\n",
       "      <td>Lakers</td>\n",
       "      <td>...</td>\n",
       "      <td>62.843330</td>\n",
       "      <td>SAC</td>\n",
       "      <td>Kings</td>\n",
       "      <td>107</td>\n",
       "      <td>1529.5922</td>\n",
       "      <td>1527.0531</td>\n",
       "      <td>H</td>\n",
       "      <td>W</td>\n",
       "      <td>0.848386</td>\n",
       "      <td>NaN</td>\n",
       "    </tr>\n",
       "    <tr>\n",
       "      <th>87611</th>\n",
       "      <td>43806</td>\n",
       "      <td>200004230LAL</td>\n",
       "      <td>NBA</td>\n",
       "      <td>1</td>\n",
       "      <td>2000</td>\n",
       "      <td>4/23/2000</td>\n",
       "      <td>83</td>\n",
       "      <td>1</td>\n",
       "      <td>SAC</td>\n",
       "      <td>Kings</td>\n",
       "      <td>...</td>\n",
       "      <td>43.927067</td>\n",
       "      <td>LAL</td>\n",
       "      <td>Lakers</td>\n",
       "      <td>117</td>\n",
       "      <td>1728.7345</td>\n",
       "      <td>1731.2736</td>\n",
       "      <td>A</td>\n",
       "      <td>L</td>\n",
       "      <td>0.151614</td>\n",
       "      <td>NaN</td>\n",
       "    </tr>\n",
       "    <tr>\n",
       "      <th>87740</th>\n",
       "      <td>43871</td>\n",
       "      <td>200006090LAL</td>\n",
       "      <td>NBA</td>\n",
       "      <td>1</td>\n",
       "      <td>2000</td>\n",
       "      <td>6/9/2000</td>\n",
       "      <td>101</td>\n",
       "      <td>1</td>\n",
       "      <td>IND</td>\n",
       "      <td>Pacers</td>\n",
       "      <td>...</td>\n",
       "      <td>54.355499</td>\n",
       "      <td>LAL</td>\n",
       "      <td>Lakers</td>\n",
       "      <td>111</td>\n",
       "      <td>1706.6567</td>\n",
       "      <td>1710.6750</td>\n",
       "      <td>A</td>\n",
       "      <td>L</td>\n",
       "      <td>0.271571</td>\n",
       "      <td>NaN</td>\n",
       "    </tr>\n",
       "    <tr>\n",
       "      <th>87741</th>\n",
       "      <td>43871</td>\n",
       "      <td>200006090LAL</td>\n",
       "      <td>NBA</td>\n",
       "      <td>0</td>\n",
       "      <td>2000</td>\n",
       "      <td>6/9/2000</td>\n",
       "      <td>101</td>\n",
       "      <td>1</td>\n",
       "      <td>LAL</td>\n",
       "      <td>Lakers</td>\n",
       "      <td>...</td>\n",
       "      <td>61.252735</td>\n",
       "      <td>IND</td>\n",
       "      <td>Pacers</td>\n",
       "      <td>104</td>\n",
       "      <td>1635.2549</td>\n",
       "      <td>1631.2366</td>\n",
       "      <td>H</td>\n",
       "      <td>W</td>\n",
       "      <td>0.728429</td>\n",
       "      <td>NaN</td>\n",
       "    </tr>\n",
       "    <tr>\n",
       "      <th>87744</th>\n",
       "      <td>43873</td>\n",
       "      <td>200006140IND</td>\n",
       "      <td>NBA</td>\n",
       "      <td>0</td>\n",
       "      <td>2000</td>\n",
       "      <td>6/14/2000</td>\n",
       "      <td>103</td>\n",
       "      <td>1</td>\n",
       "      <td>IND</td>\n",
       "      <td>Pacers</td>\n",
       "      <td>...</td>\n",
       "      <td>54.680210</td>\n",
       "      <td>LAL</td>\n",
       "      <td>Lakers</td>\n",
       "      <td>120</td>\n",
       "      <td>1701.6648</td>\n",
       "      <td>1707.2019</td>\n",
       "      <td>H</td>\n",
       "      <td>L</td>\n",
       "      <td>0.555297</td>\n",
       "      <td>NaN</td>\n",
       "    </tr>\n",
       "    <tr>\n",
       "      <th>...</th>\n",
       "      <td>...</td>\n",
       "      <td>...</td>\n",
       "      <td>...</td>\n",
       "      <td>...</td>\n",
       "      <td>...</td>\n",
       "      <td>...</td>\n",
       "      <td>...</td>\n",
       "      <td>...</td>\n",
       "      <td>...</td>\n",
       "      <td>...</td>\n",
       "      <td>...</td>\n",
       "      <td>...</td>\n",
       "      <td>...</td>\n",
       "      <td>...</td>\n",
       "      <td>...</td>\n",
       "      <td>...</td>\n",
       "      <td>...</td>\n",
       "      <td>...</td>\n",
       "      <td>...</td>\n",
       "      <td>...</td>\n",
       "      <td>...</td>\n",
       "    </tr>\n",
       "    <tr>\n",
       "      <th>111013</th>\n",
       "      <td>55507</td>\n",
       "      <td>200905260ORL</td>\n",
       "      <td>NBA</td>\n",
       "      <td>0</td>\n",
       "      <td>2009</td>\n",
       "      <td>5/26/2009</td>\n",
       "      <td>99</td>\n",
       "      <td>1</td>\n",
       "      <td>ORL</td>\n",
       "      <td>Magic</td>\n",
       "      <td>...</td>\n",
       "      <td>59.975048</td>\n",
       "      <td>CLE</td>\n",
       "      <td>Cavaliers</td>\n",
       "      <td>114</td>\n",
       "      <td>1750.6434</td>\n",
       "      <td>1746.5549</td>\n",
       "      <td>H</td>\n",
       "      <td>W</td>\n",
       "      <td>0.562210</td>\n",
       "      <td>NaN</td>\n",
       "    </tr>\n",
       "    <tr>\n",
       "      <th>111016</th>\n",
       "      <td>55509</td>\n",
       "      <td>200905280CLE</td>\n",
       "      <td>NBA</td>\n",
       "      <td>1</td>\n",
       "      <td>2009</td>\n",
       "      <td>5/28/2009</td>\n",
       "      <td>100</td>\n",
       "      <td>1</td>\n",
       "      <td>ORL</td>\n",
       "      <td>Magic</td>\n",
       "      <td>...</td>\n",
       "      <td>59.515461</td>\n",
       "      <td>CLE</td>\n",
       "      <td>Cavaliers</td>\n",
       "      <td>112</td>\n",
       "      <td>1746.5549</td>\n",
       "      <td>1752.0944</td>\n",
       "      <td>A</td>\n",
       "      <td>L</td>\n",
       "      <td>0.298576</td>\n",
       "      <td>NaN</td>\n",
       "    </tr>\n",
       "    <tr>\n",
       "      <th>111017</th>\n",
       "      <td>55509</td>\n",
       "      <td>200905280CLE</td>\n",
       "      <td>NBA</td>\n",
       "      <td>0</td>\n",
       "      <td>2009</td>\n",
       "      <td>5/28/2009</td>\n",
       "      <td>95</td>\n",
       "      <td>1</td>\n",
       "      <td>CLE</td>\n",
       "      <td>Cavaliers</td>\n",
       "      <td>...</td>\n",
       "      <td>64.127365</td>\n",
       "      <td>ORL</td>\n",
       "      <td>Magic</td>\n",
       "      <td>102</td>\n",
       "      <td>1698.1847</td>\n",
       "      <td>1692.6453</td>\n",
       "      <td>H</td>\n",
       "      <td>W</td>\n",
       "      <td>0.701424</td>\n",
       "      <td>NaN</td>\n",
       "    </tr>\n",
       "    <tr>\n",
       "      <th>111026</th>\n",
       "      <td>55514</td>\n",
       "      <td>200906090ORL</td>\n",
       "      <td>NBA</td>\n",
       "      <td>0</td>\n",
       "      <td>2009</td>\n",
       "      <td>6/9/2009</td>\n",
       "      <td>104</td>\n",
       "      <td>1</td>\n",
       "      <td>ORL</td>\n",
       "      <td>Magic</td>\n",
       "      <td>...</td>\n",
       "      <td>59.792599</td>\n",
       "      <td>LAL</td>\n",
       "      <td>Lakers</td>\n",
       "      <td>104</td>\n",
       "      <td>1773.2328</td>\n",
       "      <td>1767.2939</td>\n",
       "      <td>H</td>\n",
       "      <td>W</td>\n",
       "      <td>0.524166</td>\n",
       "      <td>NaN</td>\n",
       "    </tr>\n",
       "    <tr>\n",
       "      <th>111027</th>\n",
       "      <td>55514</td>\n",
       "      <td>200906090ORL</td>\n",
       "      <td>NBA</td>\n",
       "      <td>1</td>\n",
       "      <td>2009</td>\n",
       "      <td>6/9/2009</td>\n",
       "      <td>103</td>\n",
       "      <td>1</td>\n",
       "      <td>LAL</td>\n",
       "      <td>Lakers</td>\n",
       "      <td>...</td>\n",
       "      <td>65.190567</td>\n",
       "      <td>ORL</td>\n",
       "      <td>Magic</td>\n",
       "      <td>108</td>\n",
       "      <td>1690.0382</td>\n",
       "      <td>1695.9771</td>\n",
       "      <td>A</td>\n",
       "      <td>L</td>\n",
       "      <td>0.475834</td>\n",
       "      <td>NaN</td>\n",
       "    </tr>\n",
       "  </tbody>\n",
       "</table>\n",
       "<p>252 rows × 23 columns</p>\n",
       "</div>"
      ],
      "text/plain": [
       "        gameorder       game_id lg_id  _iscopy  year_id  date_game  \\\n",
       "87610       43806  200004230LAL   NBA        0     2000  4/23/2000   \n",
       "87611       43806  200004230LAL   NBA        1     2000  4/23/2000   \n",
       "87740       43871  200006090LAL   NBA        1     2000   6/9/2000   \n",
       "87741       43871  200006090LAL   NBA        0     2000   6/9/2000   \n",
       "87744       43873  200006140IND   NBA        0     2000  6/14/2000   \n",
       "...           ...           ...   ...      ...      ...        ...   \n",
       "111013      55507  200905260ORL   NBA        0     2009  5/26/2009   \n",
       "111016      55509  200905280CLE   NBA        1     2009  5/28/2009   \n",
       "111017      55509  200905280CLE   NBA        0     2009  5/28/2009   \n",
       "111026      55514  200906090ORL   NBA        0     2009   6/9/2009   \n",
       "111027      55514  200906090ORL   NBA        1     2009   6/9/2009   \n",
       "\n",
       "        seasongame  is_playoffs team_id    fran_id  ...  win_equiv  opp_id  \\\n",
       "87610           83            1     LAL     Lakers  ...  62.843330     SAC   \n",
       "87611           83            1     SAC      Kings  ...  43.927067     LAL   \n",
       "87740          101            1     IND     Pacers  ...  54.355499     LAL   \n",
       "87741          101            1     LAL     Lakers  ...  61.252735     IND   \n",
       "87744          103            1     IND     Pacers  ...  54.680210     LAL   \n",
       "...            ...          ...     ...        ...  ...        ...     ...   \n",
       "111013          99            1     ORL      Magic  ...  59.975048     CLE   \n",
       "111016         100            1     ORL      Magic  ...  59.515461     CLE   \n",
       "111017          95            1     CLE  Cavaliers  ...  64.127365     ORL   \n",
       "111026         104            1     ORL      Magic  ...  59.792599     LAL   \n",
       "111027         103            1     LAL     Lakers  ...  65.190567     ORL   \n",
       "\n",
       "         opp_fran  opp_pts  opp_elo_i  opp_elo_n  game_location  game_result  \\\n",
       "87610       Kings      107  1529.5922  1527.0531              H            W   \n",
       "87611      Lakers      117  1728.7345  1731.2736              A            L   \n",
       "87740      Lakers      111  1706.6567  1710.6750              A            L   \n",
       "87741      Pacers      104  1635.2549  1631.2366              H            W   \n",
       "87744      Lakers      120  1701.6648  1707.2019              H            L   \n",
       "...           ...      ...        ...        ...            ...          ...   \n",
       "111013  Cavaliers      114  1750.6434  1746.5549              H            W   \n",
       "111016  Cavaliers      112  1746.5549  1752.0944              A            L   \n",
       "111017      Magic      102  1698.1847  1692.6453              H            W   \n",
       "111026     Lakers      104  1773.2328  1767.2939              H            W   \n",
       "111027      Magic      108  1690.0382  1695.9771              A            L   \n",
       "\n",
       "        forecast notes  \n",
       "87610   0.848386   NaN  \n",
       "87611   0.151614   NaN  \n",
       "87740   0.271571   NaN  \n",
       "87741   0.728429   NaN  \n",
       "87744   0.555297   NaN  \n",
       "...          ...   ...  \n",
       "111013  0.562210   NaN  \n",
       "111016  0.298576   NaN  \n",
       "111017  0.701424   NaN  \n",
       "111026  0.524166   NaN  \n",
       "111027  0.475834   NaN  \n",
       "\n",
       "[252 rows x 23 columns]"
      ]
     },
     "execution_count": 104,
     "metadata": {},
     "output_type": "execute_result"
    }
   ],
   "source": [
    "newdataframe=(nba[(nba[\"is_playoffs\"] == 1) & (nba[\"opp_pts\"] > 100) & (nba[\"pts\"] > 100) & (nba[\"year_id\"] >= 2000) & (nba[\"year_id\"] <= 2009)]) #here we are slicing the games from 2000 through to 2009 and storing them in an an object named, newdataframe\n",
    "newdataframe"
   ]
  },
  {
   "cell_type": "markdown",
   "id": "ab314a63",
   "metadata": {},
   "source": [
    "** **"
   ]
  },
  {
   "cell_type": "markdown",
   "id": "28dde13c",
   "metadata": {},
   "source": [
    "**Question.8 (report your answer): Filter your dataset and find all the playoffs games where\n",
    "the number of points scored by both home and away was more than 100 in 2011 and\n",
    "make sure you do not include duplicates (do notforget the parentheses).**"
   ]
  },
  {
   "cell_type": "code",
   "execution_count": 105,
   "id": "063cf27d",
   "metadata": {},
   "outputs": [
    {
     "name": "stdout",
     "output_type": "stream",
     "text": [
      "        gameorder       game_id lg_id  _iscopy  year_id  date_game  \\\n",
      "116128      58065  201104170OKC   NBA        0     2011  4/17/2011   \n",
      "116129      58065  201104170OKC   NBA        1     2011  4/17/2011   \n",
      "116178      58090  201104250DEN   NBA        0     2011  4/25/2011   \n",
      "116179      58090  201104250DEN   NBA        1     2011  4/25/2011   \n",
      "116192      58097  201104270SAS   NBA        1     2011  4/27/2011   \n",
      "116193      58097  201104270SAS   NBA        0     2011  4/27/2011   \n",
      "116204      58103  201105010OKC   NBA        1     2011   5/1/2011   \n",
      "116205      58103  201105010OKC   NBA        0     2011   5/1/2011   \n",
      "116212      58107  201105030OKC   NBA        1     2011   5/3/2011   \n",
      "116213      58107  201105030OKC   NBA        0     2011   5/3/2011   \n",
      "116232      58117  201105090MEM   NBA        1     2011   5/9/2011   \n",
      "116233      58117  201105090MEM   NBA        0     2011   5/9/2011   \n",
      "116248      58125  201105170DAL   NBA        0     2011  5/17/2011   \n",
      "116249      58125  201105170DAL   NBA        1     2011  5/17/2011   \n",
      "116258      58130  201105230OKC   NBA        0     2011  5/23/2011   \n",
      "116259      58130  201105230OKC   NBA        1     2011  5/23/2011   \n",
      "116274      58138  201106090DAL   NBA        1     2011   6/9/2011   \n",
      "116275      58138  201106090DAL   NBA        0     2011   6/9/2011   \n",
      "\n",
      "        seasongame  is_playoffs team_id    fran_id  ...  win_equiv  opp_id  \\\n",
      "116128          83            1     OKC    Thunder  ...  57.193829     DEN   \n",
      "116129          83            1     DEN    Nuggets  ...  53.996059     OKC   \n",
      "116178          86            1     DEN    Nuggets  ...  53.039177     OKC   \n",
      "116179          86            1     OKC    Thunder  ...  58.075359     DEN   \n",
      "116192          87            1     MEM  Grizzlies  ...  51.001709     SAS   \n",
      "116193          87            1     SAS      Spurs  ...  52.749161     MEM   \n",
      "116204          89            1     MEM  Grizzlies  ...  53.643707     OKC   \n",
      "116205          88            1     OKC    Thunder  ...  56.499226     MEM   \n",
      "116212          90            1     MEM  Grizzlies  ...  53.105942     OKC   \n",
      "116213          89            1     OKC    Thunder  ...  57.003559     MEM   \n",
      "116232          91            1     OKC    Thunder  ...  57.536388     MEM   \n",
      "116233          92            1     MEM  Grizzlies  ...  52.526051     OKC   \n",
      "116248          93            1     DAL  Mavericks  ...  60.352184     OKC   \n",
      "116249          95            1     OKC    Thunder  ...  57.623520     DAL   \n",
      "116258          98            1     OKC    Thunder  ...  56.792259     DAL   \n",
      "116259          96            1     DAL  Mavericks  ...  61.109230     OKC   \n",
      "116274         102            1     MIA       Heat  ...  61.300171     DAL   \n",
      "116275         102            1     DAL  Mavericks  ...  61.774223     MIA   \n",
      "\n",
      "         opp_fran  opp_pts  opp_elo_i  opp_elo_n  game_location  game_result  \\\n",
      "116128    Nuggets      103  1635.5801  1631.8573              H            W   \n",
      "116129    Thunder      107  1663.0754  1666.7982              A            L   \n",
      "116178    Thunder      101  1681.7482  1676.8589              H            W   \n",
      "116179    Nuggets      104  1616.9073  1621.7966              A            L   \n",
      "116192      Spurs      110  1613.3435  1618.7777              A            L   \n",
      "116193  Grizzlies      103  1606.2883  1600.8541              H            W   \n",
      "116204    Thunder      101  1679.7493  1659.0131              A            W   \n",
      "116205  Grizzlies      114  1607.3979  1628.1342              H            L   \n",
      "116212    Thunder      111  1659.0131  1664.6537              A            L   \n",
      "116213  Grizzlies      102  1628.1342  1622.4935              H            W   \n",
      "116232  Grizzlies      123  1629.7399  1616.4644              A            W   \n",
      "116233    Thunder      133  1657.4073  1670.6829              H            L   \n",
      "116248    Thunder      112  1677.5952  1671.6759              H            W   \n",
      "116249  Mavericks      121  1697.9991  1703.9185              A            L   \n",
      "116258  Mavericks      112  1702.6158  1713.3115              H            L   \n",
      "116259    Thunder      105  1672.9785  1662.2828              A            W   \n",
      "116274  Mavericks      112  1715.0470  1721.7489              A            L   \n",
      "116275       Heat      103  1722.4176  1715.7157              H            W   \n",
      "\n",
      "        forecast notes  \n",
      "116128  0.675665   NaN  \n",
      "116129  0.324335   NaN  \n",
      "116178  0.550426   NaN  \n",
      "116179  0.449574   NaN  \n",
      "116192  0.350633   NaN  \n",
      "116193  0.649367   NaN  \n",
      "116204  0.270491   NaN  \n",
      "116205  0.729509   NaN  \n",
      "116212  0.320081   NaN  \n",
      "116213  0.679919   NaN  \n",
      "116232  0.397383   NaN  \n",
      "116233  0.602617   NaN  \n",
      "116248  0.666656   NaN  \n",
      "116249  0.333344   NaN  \n",
      "116258  0.599898   NaN  \n",
      "116259  0.400102   NaN  \n",
      "116274  0.369767   NaN  \n",
      "116275  0.630233   NaN  \n",
      "\n",
      "[18 rows x 23 columns]\n"
     ]
    }
   ],
   "source": [
    "print(nba[(nba[\"is_playoffs\"]==1) & (nba[\"pts\"]>100) & (nba[\"opp_pts\"]>100) & (nba[\"year_id\"]==2011)]) #here we are filtering using multiple criteria, only the games in which both 'Home' and 'Away' teams scored more than '100' points and the games were 'PlayOffs' in the year '2011'"
   ]
  },
  {
   "cell_type": "markdown",
   "id": "e443b92b",
   "metadata": {},
   "source": [
    "** **"
   ]
  },
  {
   "cell_type": "markdown",
   "id": "0da7e8d7",
   "metadata": {},
   "source": [
    "**Question.9 (report your answer): Take a look at the New York Knicks 2011-12season\n",
    "(year_id: 2012). How many wins and losses did they score during the regular season and\n",
    "the playoffs?**"
   ]
  },
  {
   "cell_type": "markdown",
   "id": "7572dac2",
   "metadata": {},
   "source": [
    "**Answer No.9**"
   ]
  },
  {
   "cell_type": "code",
   "execution_count": 106,
   "id": "94d5689c",
   "metadata": {},
   "outputs": [
    {
     "data": {
      "text/plain": [
       "year_id  game_result  is_playoffs\n",
       "2012     L            0              30\n",
       "                      1               4\n",
       "         W            0              36\n",
       "                      1               1\n",
       "Name: game_id, dtype: int64"
      ]
     },
     "execution_count": 106,
     "metadata": {},
     "output_type": "execute_result"
    }
   ],
   "source": [
    "nba[(nba[\"fran_id\"] == \"Knicks\") & (nba[\"year_id\"] == 2012)].groupby(\n",
    "    [\"year_id\", \"game_result\",\"is_playoffs\"])[\"game_id\"].count() #here we have filtered 'Knicks' games in '2012' and divided them into regular season and playoffs"
   ]
  },
  {
   "cell_type": "markdown",
   "id": "59f97c1a",
   "metadata": {},
   "source": [
    "** **"
   ]
  },
  {
   "cell_type": "markdown",
   "id": "0e9caf01",
   "metadata": {},
   "source": [
    "**Question.10 (report your answer): Find another column in the nba dataset with a generic data\n",
    "type and convert it to a more specific one.**"
   ]
  },
  {
   "cell_type": "markdown",
   "id": "9203ec32",
   "metadata": {},
   "source": [
    "**Answer No.10**"
   ]
  },
  {
   "cell_type": "code",
   "execution_count": 107,
   "id": "685925ad",
   "metadata": {},
   "outputs": [
    {
     "name": "stdout",
     "output_type": "stream",
     "text": [
      "<class 'pandas.core.frame.DataFrame'>\n",
      "RangeIndex: 126314 entries, 0 to 126313\n",
      "Data columns (total 23 columns):\n",
      " #   Column         Non-Null Count   Dtype   \n",
      "---  ------         --------------   -----   \n",
      " 0   gameorder      126314 non-null  int64   \n",
      " 1   game_id        126314 non-null  object  \n",
      " 2   lg_id          126314 non-null  category\n",
      " 3   _iscopy        126314 non-null  int64   \n",
      " 4   year_id        126314 non-null  int64   \n",
      " 5   date_game      126314 non-null  object  \n",
      " 6   seasongame     126314 non-null  int64   \n",
      " 7   is_playoffs    126314 non-null  int64   \n",
      " 8   team_id        126314 non-null  object  \n",
      " 9   fran_id        126314 non-null  object  \n",
      " 10  pts            126314 non-null  int64   \n",
      " 11  elo_i          126314 non-null  float64 \n",
      " 12  elo_n          126314 non-null  float64 \n",
      " 13  win_equiv      126314 non-null  float64 \n",
      " 14  opp_id         126314 non-null  object  \n",
      " 15  opp_fran       126314 non-null  object  \n",
      " 16  opp_pts        126314 non-null  int64   \n",
      " 17  opp_elo_i      126314 non-null  float64 \n",
      " 18  opp_elo_n      126314 non-null  float64 \n",
      " 19  game_location  126314 non-null  object  \n",
      " 20  game_result    126314 non-null  object  \n",
      " 21  forecast       126314 non-null  float64 \n",
      " 22  notes          5424 non-null    object  \n",
      "dtypes: category(1), float64(6), int64(7), object(9)\n",
      "memory usage: 21.3+ MB\n"
     ]
    }
   ],
   "source": [
    "df.info() #note the memory usage at the end without changing the 'lg_id', before conversion its around 22.3MB"
   ]
  },
  {
   "cell_type": "code",
   "execution_count": 108,
   "id": "85935e22",
   "metadata": {},
   "outputs": [
    {
     "name": "stdout",
     "output_type": "stream",
     "text": [
      "<class 'pandas.core.frame.DataFrame'>\n",
      "RangeIndex: 126314 entries, 0 to 126313\n",
      "Data columns (total 23 columns):\n",
      " #   Column         Non-Null Count   Dtype   \n",
      "---  ------         --------------   -----   \n",
      " 0   gameorder      126314 non-null  int64   \n",
      " 1   game_id        126314 non-null  object  \n",
      " 2   lg_id          126314 non-null  category\n",
      " 3   _iscopy        126314 non-null  int64   \n",
      " 4   year_id        126314 non-null  int64   \n",
      " 5   date_game      126314 non-null  object  \n",
      " 6   seasongame     126314 non-null  int64   \n",
      " 7   is_playoffs    126314 non-null  int64   \n",
      " 8   team_id        126314 non-null  object  \n",
      " 9   fran_id        126314 non-null  object  \n",
      " 10  pts            126314 non-null  int64   \n",
      " 11  elo_i          126314 non-null  float64 \n",
      " 12  elo_n          126314 non-null  float64 \n",
      " 13  win_equiv      126314 non-null  float64 \n",
      " 14  opp_id         126314 non-null  object  \n",
      " 15  opp_fran       126314 non-null  object  \n",
      " 16  opp_pts        126314 non-null  int64   \n",
      " 17  opp_elo_i      126314 non-null  float64 \n",
      " 18  opp_elo_n      126314 non-null  float64 \n",
      " 19  game_location  126314 non-null  object  \n",
      " 20  game_result    126314 non-null  object  \n",
      " 21  forecast       126314 non-null  float64 \n",
      " 22  notes          5424 non-null    object  \n",
      "dtypes: category(1), float64(6), int64(7), object(9)\n",
      "memory usage: 21.3+ MB\n"
     ]
    }
   ],
   "source": [
    "df[\"lg_id\"].nunique() #here we are retrieving different values of lg_id and applying value counts\n",
    "df[\"lg_id\"].value_counts()\n",
    "\n",
    "df[\"lg_id\"] = pd.Categorical(df[\"lg_id\"]) #here we are converting the data type to categorical\n",
    "df[\"lg_id\"].dtype #here we are verifying the data types\n",
    "df.info() #note here that we have reduced the memopry usage to around 21.3MB"
   ]
  },
  {
   "cell_type": "markdown",
   "id": "c322fd72",
   "metadata": {},
   "source": [
    "** **"
   ]
  },
  {
   "cell_type": "markdown",
   "id": "d85da039",
   "metadata": {},
   "source": [
    "**Question.11 (report your answer):**"
   ]
  },
  {
   "cell_type": "code",
   "execution_count": 109,
   "id": "37f076f5",
   "metadata": {},
   "outputs": [
    {
     "data": {
      "text/plain": [
       "<AxesSubplot:xlabel='year_id'>"
      ]
     },
     "execution_count": 109,
     "metadata": {},
     "output_type": "execute_result"
    },
    {
     "data": {
      "image/png": "[encoded data removed]",
      "text/plain": [
       "<Figure size 432x288 with 1 Axes>"
      ]
     },
     "metadata": {
      "needs_background": "light"
     },
     "output_type": "display_data"
    }
   ],
   "source": [
    "#visualise how many points the Knicks scored throughout the seasons\n",
    "nba[nba[\"fran_id\"] == \"Knicks\"].groupby(\"year_id\")[\"pts\"].sum().plot()"
   ]
  },
  {
   "cell_type": "markdown",
   "id": "c8f9f666",
   "metadata": {},
   "source": [
    "**11.1) Explain what the above line plot, showing how many points the Knicks scored throughout the seasons, reveals to you (i.e. describe what you find out).**"
   ]
  },
  {
   "cell_type": "markdown",
   "id": "3b9ea633",
   "metadata": {},
   "source": [
    "**Answer No.11.1**"
   ]
  },
  {
   "cell_type": "markdown",
   "id": "9ab067a9",
   "metadata": {},
   "source": [
    "The line plot suggests that Knicks reached a peak, spiking to more than 11,000 points around the year 1970 and then gradually\n",
    "decreasig again and saw a steep depression just before the year 2000, where it dropped to a mere 6000 points."
   ]
  },
  {
   "cell_type": "code",
   "execution_count": 110,
   "id": "64c2194f",
   "metadata": {},
   "outputs": [
    {
     "data": {
      "text/plain": [
       "<AxesSubplot:>"
      ]
     },
     "execution_count": 110,
     "metadata": {},
     "output_type": "execute_result"
    },
    {
     "data": {
      "image/png": "[encoded data removed]",
      "text/plain": [
       "<Figure size 432x288 with 1 Axes>"
      ]
     },
     "metadata": {
      "needs_background": "light"
     },
     "output_type": "display_data"
    }
   ],
   "source": [
    "nba[\"fran_id\"].value_counts().head(10).plot(kind=\"bar\") #here we have created a bar plot which shows the games played by franchises"
   ]
  },
  {
   "cell_type": "markdown",
   "id": "85d16413",
   "metadata": {},
   "source": [
    "**11.2) Describe what the above bar plot reveals about the franchises with the most games played.**"
   ]
  },
  {
   "cell_type": "markdown",
   "id": "58a85166",
   "metadata": {},
   "source": [
    "**Answer No.11.2**"
   ]
  },
  {
   "cell_type": "markdown",
   "id": "ec279220",
   "metadata": {},
   "source": [
    "This bar plot suggests that the top three franchises playing the most number of games were Lakers, Celtics and Knicks."
   ]
  },
  {
   "cell_type": "markdown",
   "id": "8091cd0e",
   "metadata": {},
   "source": [
    "**11.3) In 2013, the Miami Heat won the championship. Create a pie plot showing the count of their wins and losses during that season. (First, define a criterion to include only the Heat's games from 2013. Then, create a plot in the same way asyou have seen above).**"
   ]
  },
  {
   "cell_type": "markdown",
   "id": "7b829cd9",
   "metadata": {},
   "source": [
    "**Answer No.11.3**"
   ]
  },
  {
   "cell_type": "code",
   "execution_count": 111,
   "id": "e950671f",
   "metadata": {},
   "outputs": [
    {
     "data": {
      "text/plain": [
       "W    82\n",
       "L    23\n",
       "Name: game_result, dtype: int64"
      ]
     },
     "execution_count": 111,
     "metadata": {},
     "output_type": "execute_result"
    }
   ],
   "source": [
    "nba[(nba[\"fran_id\"] == \"Heat\") & (nba[\"year_id\"] == 2013)][\"game_result\"].value_counts() #here we are filtering just the wins and losses out of the games played by Miami Heat in the year 2013"
   ]
  },
  {
   "cell_type": "code",
   "execution_count": 112,
   "id": "af603448",
   "metadata": {},
   "outputs": [
    {
     "data": {
      "text/plain": [
       "<AxesSubplot:ylabel='game_result'>"
      ]
     },
     "execution_count": 112,
     "metadata": {},
     "output_type": "execute_result"
    },
    {
     "data": {
      "image/png": "[encoded data removed]",
      "text/plain": [
       "<Figure size 432x288 with 1 Axes>"
      ]
     },
     "metadata": {},
     "output_type": "display_data"
    }
   ],
   "source": [
    "nba[(nba[\"fran_id\"] == \"Heat\") & (nba[\"year_id\"] == 2013)][\"game_result\"].value_counts().plot(kind=\"pie\") #here we are visualizing the above results into a pie chart"
   ]
  },
  {
   "cell_type": "markdown",
   "id": "c07b857b",
   "metadata": {},
   "source": [
    "** **"
   ]
  },
  {
   "cell_type": "markdown",
   "id": "48d48a8b",
   "metadata": {},
   "source": [
    "** **"
   ]
  }
 ],
 "metadata": {
  "kernelspec": {
   "display_name": "Python 3 (ipykernel)",
   "language": "python",
   "name": "python3"
  },
  "language_info": {
   "codemirror_mode": {
    "name": "ipython",
    "version": 3
   },
   "file_extension": ".py",
   "mimetype": "text/x-python",
   "name": "python",
   "nbconvert_exporter": "python",
   "pygments_lexer": "ipython3",
   "version": "3.9.7"
  }
 },
 "nbformat": 4,
 "nbformat_minor": 5
}
